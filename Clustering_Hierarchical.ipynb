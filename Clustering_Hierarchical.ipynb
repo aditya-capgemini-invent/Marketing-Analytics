{
 "cells": [
  {
   "cell_type": "markdown",
   "metadata": {},
   "source": [
    "# <font color='Blue'>Hierarchical Clustering for the Market Ressearch Data on Electronics PurchasesClustering</font>"
   ]
  },
  {
   "cell_type": "markdown",
   "metadata": {},
   "source": [
    "<b> Hierarchical clustering </b>\n",
    "\n",
    "    Steps in executing Hierarchical clustering\n",
    "       1. Decide the value of k\n",
    "       2. Decide the distance type using parameter 'affinity' - “euclidean”, “l1”, “l2”, “manhattan”, “cosine”, or “precomputed”\n",
    "       3. Decide the linkage type using parameter 'linkage' - “ward”, “complete”, “average”, “single”"
   ]
  },
  {
   "cell_type": "markdown",
   "metadata": {},
   "source": [
    "# <font color='Blue'>Loading Libraries</font>"
   ]
  },
  {
   "cell_type": "code",
   "execution_count": 1,
   "metadata": {},
   "outputs": [],
   "source": [
    "import numpy as np\n",
    "import pandas as pd\n",
    "import matplotlib.pyplot as plt\n",
    "import seaborn as sn\n",
    "\n",
    "from sklearn.cluster import AgglomerativeClustering\n",
    "from sklearn import metrics\n",
    "from sklearn.preprocessing import StandardScaler\n",
    "\n",
    "import warnings\n",
    "warnings.filterwarnings('ignore')"
   ]
  },
  {
   "cell_type": "markdown",
   "metadata": {},
   "source": [
    "## <font color='Blue'>1.0 Loading Data</font>"
   ]
  },
  {
   "cell_type": "code",
   "execution_count": 2,
   "metadata": {},
   "outputs": [
    {
     "data": {
      "text/html": [
       "<div>\n",
       "<style scoped>\n",
       "    .dataframe tbody tr th:only-of-type {\n",
       "        vertical-align: middle;\n",
       "    }\n",
       "\n",
       "    .dataframe tbody tr th {\n",
       "        vertical-align: top;\n",
       "    }\n",
       "\n",
       "    .dataframe thead th {\n",
       "        text-align: right;\n",
       "    }\n",
       "</style>\n",
       "<table border=\"1\" class=\"dataframe\">\n",
       "  <thead>\n",
       "    <tr style=\"text-align: right;\">\n",
       "      <th></th>\n",
       "      <th>ID</th>\n",
       "      <th>Gender</th>\n",
       "      <th>Marital_Status</th>\n",
       "      <th>Annual_Income</th>\n",
       "      <th>Age</th>\n",
       "      <th>Monthly_Electronics_Spend</th>\n",
       "      <th>Purchasing_Frequency</th>\n",
       "      <th>Technology_Adoption</th>\n",
       "      <th>Viewing_hours_day</th>\n",
       "    </tr>\n",
       "  </thead>\n",
       "  <tbody>\n",
       "    <tr>\n",
       "      <th>0</th>\n",
       "      <td>1</td>\n",
       "      <td>male</td>\n",
       "      <td>married</td>\n",
       "      <td>49</td>\n",
       "      <td>30</td>\n",
       "      <td>35</td>\n",
       "      <td>13</td>\n",
       "      <td>late</td>\n",
       "      <td>2</td>\n",
       "    </tr>\n",
       "    <tr>\n",
       "      <th>1</th>\n",
       "      <td>2</td>\n",
       "      <td>male</td>\n",
       "      <td>single</td>\n",
       "      <td>46</td>\n",
       "      <td>36</td>\n",
       "      <td>35</td>\n",
       "      <td>26</td>\n",
       "      <td>late</td>\n",
       "      <td>10</td>\n",
       "    </tr>\n",
       "    <tr>\n",
       "      <th>2</th>\n",
       "      <td>3</td>\n",
       "      <td>male</td>\n",
       "      <td>married</td>\n",
       "      <td>58</td>\n",
       "      <td>66</td>\n",
       "      <td>64</td>\n",
       "      <td>13</td>\n",
       "      <td>early</td>\n",
       "      <td>0</td>\n",
       "    </tr>\n",
       "    <tr>\n",
       "      <th>3</th>\n",
       "      <td>4</td>\n",
       "      <td>male</td>\n",
       "      <td>married</td>\n",
       "      <td>51</td>\n",
       "      <td>78</td>\n",
       "      <td>33</td>\n",
       "      <td>22</td>\n",
       "      <td>late</td>\n",
       "      <td>5</td>\n",
       "    </tr>\n",
       "    <tr>\n",
       "      <th>4</th>\n",
       "      <td>5</td>\n",
       "      <td>female</td>\n",
       "      <td>single</td>\n",
       "      <td>46</td>\n",
       "      <td>52</td>\n",
       "      <td>45</td>\n",
       "      <td>47</td>\n",
       "      <td>late</td>\n",
       "      <td>2</td>\n",
       "    </tr>\n",
       "    <tr>\n",
       "      <th>5</th>\n",
       "      <td>6</td>\n",
       "      <td>female</td>\n",
       "      <td>married</td>\n",
       "      <td>31</td>\n",
       "      <td>72</td>\n",
       "      <td>14</td>\n",
       "      <td>32</td>\n",
       "      <td>early</td>\n",
       "      <td>1</td>\n",
       "    </tr>\n",
       "    <tr>\n",
       "      <th>6</th>\n",
       "      <td>7</td>\n",
       "      <td>male</td>\n",
       "      <td>married</td>\n",
       "      <td>33</td>\n",
       "      <td>62</td>\n",
       "      <td>18</td>\n",
       "      <td>41</td>\n",
       "      <td>early</td>\n",
       "      <td>0</td>\n",
       "    </tr>\n",
       "    <tr>\n",
       "      <th>7</th>\n",
       "      <td>8</td>\n",
       "      <td>male</td>\n",
       "      <td>married</td>\n",
       "      <td>29</td>\n",
       "      <td>30</td>\n",
       "      <td>23</td>\n",
       "      <td>9</td>\n",
       "      <td>early</td>\n",
       "      <td>1</td>\n",
       "    </tr>\n",
       "    <tr>\n",
       "      <th>8</th>\n",
       "      <td>9</td>\n",
       "      <td>male</td>\n",
       "      <td>married</td>\n",
       "      <td>57</td>\n",
       "      <td>60</td>\n",
       "      <td>74</td>\n",
       "      <td>1</td>\n",
       "      <td>early</td>\n",
       "      <td>0</td>\n",
       "    </tr>\n",
       "    <tr>\n",
       "      <th>9</th>\n",
       "      <td>10</td>\n",
       "      <td>female</td>\n",
       "      <td>married</td>\n",
       "      <td>30</td>\n",
       "      <td>59</td>\n",
       "      <td>16</td>\n",
       "      <td>25</td>\n",
       "      <td>early</td>\n",
       "      <td>0</td>\n",
       "    </tr>\n",
       "  </tbody>\n",
       "</table>\n",
       "</div>"
      ],
      "text/plain": [
       "   ID  Gender Marital_Status  Annual_Income  Age  Monthly_Electronics_Spend  \\\n",
       "0   1    male        married             49   30                         35   \n",
       "1   2    male         single             46   36                         35   \n",
       "2   3    male        married             58   66                         64   \n",
       "3   4    male        married             51   78                         33   \n",
       "4   5  female         single             46   52                         45   \n",
       "5   6  female        married             31   72                         14   \n",
       "6   7    male        married             33   62                         18   \n",
       "7   8    male        married             29   30                         23   \n",
       "8   9    male        married             57   60                         74   \n",
       "9  10  female        married             30   59                         16   \n",
       "\n",
       "   Purchasing_Frequency Technology_Adoption  Viewing_hours_day  \n",
       "0                    13                late                  2  \n",
       "1                    26                late                 10  \n",
       "2                    13               early                  0  \n",
       "3                    22                late                  5  \n",
       "4                    47                late                  2  \n",
       "5                    32               early                  1  \n",
       "6                    41               early                  0  \n",
       "7                     9               early                  1  \n",
       "8                     1               early                  0  \n",
       "9                    25               early                  0  "
      ]
     },
     "execution_count": 2,
     "metadata": {},
     "output_type": "execute_result"
    }
   ],
   "source": [
    "mktres = pd.read_csv( \"research_data.csv\" )\n",
    "# Parking data in another dataframe\n",
    "data = mktres\n",
    "data.head(10)"
   ]
  },
  {
   "cell_type": "markdown",
   "metadata": {},
   "source": [
    "## <font color='Blue'>1.1 Get the column names</font>"
   ]
  },
  {
   "cell_type": "code",
   "execution_count": 3,
   "metadata": {},
   "outputs": [
    {
     "name": "stdout",
     "output_type": "stream",
     "text": [
      "['ID', 'Gender', 'Marital_Status', 'Annual_Income', 'Age', 'Monthly_Electronics_Spend', 'Purchasing_Frequency', 'Technology_Adoption', 'Viewing_hours_day']\n",
      "\n"
     ]
    }
   ],
   "source": [
    "columns = list(data.columns) \n",
    "print(columns)\n",
    "print(\"\")"
   ]
  },
  {
   "cell_type": "markdown",
   "metadata": {},
   "source": [
    "## <font color='Blue'>1.2 Adding derived data</font>"
   ]
  },
  {
   "cell_type": "code",
   "execution_count": 4,
   "metadata": {},
   "outputs": [
    {
     "name": "stdout",
     "output_type": "stream",
     "text": [
      "#Rows and #Columns (1000, 10)\n",
      "\n"
     ]
    }
   ],
   "source": [
    "data['Annual_Electronics_Spend'] = data['Monthly_Electronics_Spend']*12\n",
    "# Number of raws and columns\n",
    "print(\"#Rows and #Columns\",data.shape)\n",
    "print(\"\")"
   ]
  },
  {
   "cell_type": "markdown",
   "metadata": {},
   "source": [
    "## <font color='Blue'>1.3 Drop columns not need for clustering</font>"
   ]
  },
  {
   "cell_type": "code",
   "execution_count": 5,
   "metadata": {},
   "outputs": [
    {
     "name": "stdout",
     "output_type": "stream",
     "text": [
      "#Rows and #Columns (1000, 8)\n",
      "\n",
      "['Gender', 'Marital_Status', 'Annual_Income', 'Age', 'Purchasing_Frequency', 'Technology_Adoption', 'Viewing_hours_day', 'Annual_Electronics_Spend']\n"
     ]
    }
   ],
   "source": [
    "data = data.drop(['ID','Monthly_Electronics_Spend'],axis=1)\n",
    "print(\"#Rows and #Columns\",data.shape)\n",
    "print(\"\")\n",
    "columns = list(data.columns) \n",
    "print(columns)"
   ]
  },
  {
   "cell_type": "markdown",
   "metadata": {},
   "source": [
    "## <font color='Blue'>1.4 Dummy Coding Variables</font>"
   ]
  },
  {
   "cell_type": "code",
   "execution_count": 6,
   "metadata": {},
   "outputs": [
    {
     "name": "stdout",
     "output_type": "stream",
     "text": [
      "#Rows and #Columns (1000, 11)\n",
      "\n",
      "['Annual_Income', 'Age', 'Purchasing_Frequency', 'Viewing_hours_day', 'Annual_Electronics_Spend', 'Gender_female', 'Gender_male', 'Marital_Status_married', 'Marital_Status_single', 'Technology_Adoption_early', 'Technology_Adoption_late']\n"
     ]
    }
   ],
   "source": [
    "dummy      = ['Gender', 'Marital_Status', 'Technology_Adoption']\n",
    "dummydata  = pd.get_dummies(data, columns=dummy)\n",
    "dummydata.head()\n",
    "\n",
    "#Columns\n",
    "print(\"#Rows and #Columns\",dummydata.shape)\n",
    "print(\"\")\n",
    "columns = list(dummydata.columns) \n",
    "print(columns)"
   ]
  },
  {
   "cell_type": "markdown",
   "metadata": {},
   "source": [
    "## <font color='Blue'>1.5 Examining Data</font>"
   ]
  },
  {
   "cell_type": "code",
   "execution_count": 7,
   "metadata": {},
   "outputs": [
    {
     "name": "stdout",
     "output_type": "stream",
     "text": [
      "<class 'pandas.core.frame.DataFrame'>\n",
      "RangeIndex: 1000 entries, 0 to 999\n",
      "Data columns (total 11 columns):\n",
      " #   Column                     Non-Null Count  Dtype\n",
      "---  ------                     --------------  -----\n",
      " 0   Annual_Income              1000 non-null   int64\n",
      " 1   Age                        1000 non-null   int64\n",
      " 2   Purchasing_Frequency       1000 non-null   int64\n",
      " 3   Viewing_hours_day          1000 non-null   int64\n",
      " 4   Annual_Electronics_Spend   1000 non-null   int64\n",
      " 5   Gender_female              1000 non-null   uint8\n",
      " 6   Gender_male                1000 non-null   uint8\n",
      " 7   Marital_Status_married     1000 non-null   uint8\n",
      " 8   Marital_Status_single      1000 non-null   uint8\n",
      " 9   Technology_Adoption_early  1000 non-null   uint8\n",
      " 10  Technology_Adoption_late   1000 non-null   uint8\n",
      "dtypes: int64(5), uint8(6)\n",
      "memory usage: 45.0 KB\n"
     ]
    }
   ],
   "source": [
    "dummydata.info()"
   ]
  },
  {
   "cell_type": "code",
   "execution_count": 8,
   "metadata": {},
   "outputs": [
    {
     "data": {
      "text/html": [
       "<div>\n",
       "<style scoped>\n",
       "    .dataframe tbody tr th:only-of-type {\n",
       "        vertical-align: middle;\n",
       "    }\n",
       "\n",
       "    .dataframe tbody tr th {\n",
       "        vertical-align: top;\n",
       "    }\n",
       "\n",
       "    .dataframe thead th {\n",
       "        text-align: right;\n",
       "    }\n",
       "</style>\n",
       "<table border=\"1\" class=\"dataframe\">\n",
       "  <thead>\n",
       "    <tr style=\"text-align: right;\">\n",
       "      <th></th>\n",
       "      <th>Annual_Income</th>\n",
       "      <th>Age</th>\n",
       "      <th>Purchasing_Frequency</th>\n",
       "      <th>Viewing_hours_day</th>\n",
       "      <th>Annual_Electronics_Spend</th>\n",
       "      <th>Gender_female</th>\n",
       "      <th>Gender_male</th>\n",
       "      <th>Marital_Status_married</th>\n",
       "      <th>Marital_Status_single</th>\n",
       "      <th>Technology_Adoption_early</th>\n",
       "      <th>Technology_Adoption_late</th>\n",
       "    </tr>\n",
       "  </thead>\n",
       "  <tbody>\n",
       "    <tr>\n",
       "      <th>0</th>\n",
       "      <td>49</td>\n",
       "      <td>30</td>\n",
       "      <td>13</td>\n",
       "      <td>2</td>\n",
       "      <td>420</td>\n",
       "      <td>0</td>\n",
       "      <td>1</td>\n",
       "      <td>1</td>\n",
       "      <td>0</td>\n",
       "      <td>0</td>\n",
       "      <td>1</td>\n",
       "    </tr>\n",
       "    <tr>\n",
       "      <th>1</th>\n",
       "      <td>46</td>\n",
       "      <td>36</td>\n",
       "      <td>26</td>\n",
       "      <td>10</td>\n",
       "      <td>420</td>\n",
       "      <td>0</td>\n",
       "      <td>1</td>\n",
       "      <td>0</td>\n",
       "      <td>1</td>\n",
       "      <td>0</td>\n",
       "      <td>1</td>\n",
       "    </tr>\n",
       "    <tr>\n",
       "      <th>2</th>\n",
       "      <td>58</td>\n",
       "      <td>66</td>\n",
       "      <td>13</td>\n",
       "      <td>0</td>\n",
       "      <td>768</td>\n",
       "      <td>0</td>\n",
       "      <td>1</td>\n",
       "      <td>1</td>\n",
       "      <td>0</td>\n",
       "      <td>1</td>\n",
       "      <td>0</td>\n",
       "    </tr>\n",
       "    <tr>\n",
       "      <th>3</th>\n",
       "      <td>51</td>\n",
       "      <td>78</td>\n",
       "      <td>22</td>\n",
       "      <td>5</td>\n",
       "      <td>396</td>\n",
       "      <td>0</td>\n",
       "      <td>1</td>\n",
       "      <td>1</td>\n",
       "      <td>0</td>\n",
       "      <td>0</td>\n",
       "      <td>1</td>\n",
       "    </tr>\n",
       "    <tr>\n",
       "      <th>4</th>\n",
       "      <td>46</td>\n",
       "      <td>52</td>\n",
       "      <td>47</td>\n",
       "      <td>2</td>\n",
       "      <td>540</td>\n",
       "      <td>1</td>\n",
       "      <td>0</td>\n",
       "      <td>0</td>\n",
       "      <td>1</td>\n",
       "      <td>0</td>\n",
       "      <td>1</td>\n",
       "    </tr>\n",
       "  </tbody>\n",
       "</table>\n",
       "</div>"
      ],
      "text/plain": [
       "   Annual_Income  Age  Purchasing_Frequency  Viewing_hours_day  \\\n",
       "0             49   30                    13                  2   \n",
       "1             46   36                    26                 10   \n",
       "2             58   66                    13                  0   \n",
       "3             51   78                    22                  5   \n",
       "4             46   52                    47                  2   \n",
       "\n",
       "   Annual_Electronics_Spend  Gender_female  Gender_male  \\\n",
       "0                       420              0            1   \n",
       "1                       420              0            1   \n",
       "2                       768              0            1   \n",
       "3                       396              0            1   \n",
       "4                       540              1            0   \n",
       "\n",
       "   Marital_Status_married  Marital_Status_single  Technology_Adoption_early  \\\n",
       "0                       1                      0                          0   \n",
       "1                       0                      1                          0   \n",
       "2                       1                      0                          1   \n",
       "3                       1                      0                          0   \n",
       "4                       0                      1                          0   \n",
       "\n",
       "   Technology_Adoption_late  \n",
       "0                         1  \n",
       "1                         1  \n",
       "2                         0  \n",
       "3                         1  \n",
       "4                         1  "
      ]
     },
     "execution_count": 8,
     "metadata": {},
     "output_type": "execute_result"
    }
   ],
   "source": [
    "dummydata.head()"
   ]
  },
  {
   "cell_type": "markdown",
   "metadata": {},
   "source": [
    "## <font color='Blue'>1.6 Normalizing Non-Categorical Variables</font>"
   ]
  },
  {
   "cell_type": "code",
   "execution_count": 9,
   "metadata": {},
   "outputs": [
    {
     "data": {
      "text/html": [
       "<div>\n",
       "<style scoped>\n",
       "    .dataframe tbody tr th:only-of-type {\n",
       "        vertical-align: middle;\n",
       "    }\n",
       "\n",
       "    .dataframe tbody tr th {\n",
       "        vertical-align: top;\n",
       "    }\n",
       "\n",
       "    .dataframe thead th {\n",
       "        text-align: right;\n",
       "    }\n",
       "</style>\n",
       "<table border=\"1\" class=\"dataframe\">\n",
       "  <thead>\n",
       "    <tr style=\"text-align: right;\">\n",
       "      <th></th>\n",
       "      <th>Annual_Income</th>\n",
       "      <th>Age</th>\n",
       "      <th>Purchasing_Frequency</th>\n",
       "      <th>Viewing_hours_day</th>\n",
       "      <th>Annual_Electronics_Spend</th>\n",
       "      <th>Gender_female</th>\n",
       "      <th>Gender_male</th>\n",
       "      <th>Marital_Status_married</th>\n",
       "      <th>Marital_Status_single</th>\n",
       "      <th>Technology_Adoption_early</th>\n",
       "      <th>Technology_Adoption_late</th>\n",
       "    </tr>\n",
       "  </thead>\n",
       "  <tbody>\n",
       "    <tr>\n",
       "      <th>0</th>\n",
       "      <td>0.322666</td>\n",
       "      <td>-1.027302</td>\n",
       "      <td>-0.719876</td>\n",
       "      <td>-0.127200</td>\n",
       "      <td>420</td>\n",
       "      <td>0</td>\n",
       "      <td>1</td>\n",
       "      <td>1</td>\n",
       "      <td>0</td>\n",
       "      <td>0</td>\n",
       "      <td>1</td>\n",
       "    </tr>\n",
       "    <tr>\n",
       "      <th>1</th>\n",
       "      <td>0.225798</td>\n",
       "      <td>-0.691290</td>\n",
       "      <td>0.217275</td>\n",
       "      <td>2.623078</td>\n",
       "      <td>420</td>\n",
       "      <td>0</td>\n",
       "      <td>1</td>\n",
       "      <td>0</td>\n",
       "      <td>1</td>\n",
       "      <td>0</td>\n",
       "      <td>1</td>\n",
       "    </tr>\n",
       "    <tr>\n",
       "      <th>2</th>\n",
       "      <td>0.613268</td>\n",
       "      <td>0.988773</td>\n",
       "      <td>-0.719876</td>\n",
       "      <td>-0.814770</td>\n",
       "      <td>768</td>\n",
       "      <td>0</td>\n",
       "      <td>1</td>\n",
       "      <td>1</td>\n",
       "      <td>0</td>\n",
       "      <td>1</td>\n",
       "      <td>0</td>\n",
       "    </tr>\n",
       "    <tr>\n",
       "      <th>3</th>\n",
       "      <td>0.387244</td>\n",
       "      <td>1.660798</td>\n",
       "      <td>-0.071079</td>\n",
       "      <td>0.904154</td>\n",
       "      <td>396</td>\n",
       "      <td>0</td>\n",
       "      <td>1</td>\n",
       "      <td>1</td>\n",
       "      <td>0</td>\n",
       "      <td>0</td>\n",
       "      <td>1</td>\n",
       "    </tr>\n",
       "    <tr>\n",
       "      <th>4</th>\n",
       "      <td>0.225798</td>\n",
       "      <td>0.204744</td>\n",
       "      <td>1.731134</td>\n",
       "      <td>-0.127200</td>\n",
       "      <td>540</td>\n",
       "      <td>1</td>\n",
       "      <td>0</td>\n",
       "      <td>0</td>\n",
       "      <td>1</td>\n",
       "      <td>0</td>\n",
       "      <td>1</td>\n",
       "    </tr>\n",
       "  </tbody>\n",
       "</table>\n",
       "</div>"
      ],
      "text/plain": [
       "   Annual_Income       Age  Purchasing_Frequency  Viewing_hours_day  \\\n",
       "0       0.322666 -1.027302             -0.719876          -0.127200   \n",
       "1       0.225798 -0.691290              0.217275           2.623078   \n",
       "2       0.613268  0.988773             -0.719876          -0.814770   \n",
       "3       0.387244  1.660798             -0.071079           0.904154   \n",
       "4       0.225798  0.204744              1.731134          -0.127200   \n",
       "\n",
       "   Annual_Electronics_Spend  Gender_female  Gender_male  \\\n",
       "0                       420              0            1   \n",
       "1                       420              0            1   \n",
       "2                       768              0            1   \n",
       "3                       396              0            1   \n",
       "4                       540              1            0   \n",
       "\n",
       "   Marital_Status_married  Marital_Status_single  Technology_Adoption_early  \\\n",
       "0                       1                      0                          0   \n",
       "1                       0                      1                          0   \n",
       "2                       1                      0                          1   \n",
       "3                       1                      0                          0   \n",
       "4                       0                      1                          0   \n",
       "\n",
       "   Technology_Adoption_late  \n",
       "0                         1  \n",
       "1                         1  \n",
       "2                         0  \n",
       "3                         1  \n",
       "4                         1  "
      ]
     },
     "execution_count": 9,
     "metadata": {},
     "output_type": "execute_result"
    }
   ],
   "source": [
    "scaler = StandardScaler()\n",
    "dummydata[[\"Annual_Income\"]]               = scaler.fit_transform(dummydata[[\"Annual_Income\"]])\n",
    "dummydata[[\"Age\"]]                         = scaler.fit_transform(dummydata[[\"Age\"]])\n",
    "dummydata[[\"Purchasing_Frequency\"]]        = scaler.fit_transform(dummydata[[\"Purchasing_Frequency\"]])\n",
    "dummydata[[\"Viewing_hours_day\"]]           = scaler.fit_transform(dummydata[[\"Viewing_hours_day\"]])\n",
    "dummydata.head()"
   ]
  },
  {
   "cell_type": "markdown",
   "metadata": {},
   "source": [
    "## <font color='Blue'>2.0 Generating Hierarchical Clusterining Solutions</font>"
   ]
  },
  {
   "cell_type": "markdown",
   "metadata": {},
   "source": [
    "### <font color='Blue'>2.1 Generate 3 cluster and 4 cluster solution</font>\n",
    "\n",
    "    Let's use different combinations of distance and linkage types\n",
    "    We shall generate 3 and 4 cluster solution for different combinations of distance and linkage types\n",
    "    Then observe cluster sizes and based on that retain the solution\n",
    "    Based on the sizes, we could observe euclidean ward 3 cluster solution is okay"
   ]
  },
  {
   "cell_type": "code",
   "execution_count": 10,
   "metadata": {},
   "outputs": [],
   "source": [
    "clusterid3 = AgglomerativeClustering(n_clusters=3,affinity='euclidean',linkage='ward').fit(dummydata).labels_\n",
    "clusterid4 = AgglomerativeClustering(n_clusters=4,affinity='euclidean',linkage='ward').fit(dummydata).labels_\n",
    "clusterid5 = AgglomerativeClustering(n_clusters=5,affinity='euclidean',linkage='ward').fit(dummydata).labels_\n",
    "clusterid6 = AgglomerativeClustering(n_clusters=6,affinity='euclidean',linkage='ward').fit(dummydata).labels_\n",
    "\n",
    "# You may try other combinations not listed here.\n",
    "\n",
    "# Solution Sizes\n",
    "\n",
    "# Euclidean Ward     3 , Euclidean Ward     4 \n",
    "# Euclidean Complete 3 , Euclidean complete 4 \n",
    "# Euclidean average  3 , Euclidean average  4 \n",
    "# Euclidean single   3 , Euclidean single   3\n",
    "\n",
    "# Manhattan Complete 3 , Manhattan complete 4\n",
    "# Manhattan average  3 , Manhattan average  4\n",
    "# Manhattan single   3 , Manhattan single   3"
   ]
  },
  {
   "cell_type": "markdown",
   "metadata": {},
   "source": [
    "###  <font color='Blue'>2.2 Assign Cluster Labels</font>"
   ]
  },
  {
   "cell_type": "code",
   "execution_count": 11,
   "metadata": {},
   "outputs": [
    {
     "name": "stdout",
     "output_type": "stream",
     "text": [
      "clusterid3\n",
      "0    145\n",
      "1    498\n",
      "2    357\n",
      "dtype: int64\n",
      "\n",
      "clusterid4\n",
      "0    357\n",
      "1    498\n",
      "2     62\n",
      "3     83\n",
      "dtype: int64\n",
      "\n",
      "clusterid5\n",
      "0    498\n",
      "1    185\n",
      "2     62\n",
      "3     83\n",
      "4    172\n",
      "dtype: int64\n",
      "\n",
      "clusterid6\n",
      "0     62\n",
      "1    185\n",
      "2    331\n",
      "3     83\n",
      "4    172\n",
      "5    167\n",
      "dtype: int64\n"
     ]
    }
   ],
   "source": [
    "data[\"clusterid3\"] = clusterid3\n",
    "data[\"clusterid4\"] = clusterid4\n",
    "data[\"clusterid5\"] = clusterid5\n",
    "data[\"clusterid6\"] = clusterid6\n",
    "cluster_size3 = data.groupby(['clusterid3']).size() \n",
    "cluster_size4 = data.groupby(['clusterid4']).size() \n",
    "cluster_size5 = data.groupby(['clusterid5']).size() \n",
    "cluster_size6 = data.groupby(['clusterid6']).size() \n",
    "print(cluster_size3)\n",
    "print(\"\")\n",
    "print(cluster_size4)\n",
    "print(\"\")\n",
    "print(cluster_size5)\n",
    "print(\"\")\n",
    "print(cluster_size6)"
   ]
  },
  {
   "cell_type": "markdown",
   "metadata": {},
   "source": [
    "###  <font color='Blue'>2.3 Performance Measure: Silhouette Score</font>"
   ]
  },
  {
   "cell_type": "code",
   "execution_count": 12,
   "metadata": {},
   "outputs": [
    {
     "name": "stdout",
     "output_type": "stream",
     "text": [
      "Silhouette Coefficient: 0.696\n",
      "Silhouette Coefficient: 0.665\n",
      "Silhouette Coefficient: 0.655\n",
      "Silhouette Coefficient: 0.541\n"
     ]
    }
   ],
   "source": [
    "print(\"Silhouette Coefficient: %0.3f\"% metrics.silhouette_score(dummydata, clusterid3))\n",
    "print(\"Silhouette Coefficient: %0.3f\"% metrics.silhouette_score(dummydata, clusterid4))\n",
    "print(\"Silhouette Coefficient: %0.3f\"% metrics.silhouette_score(dummydata, clusterid5))\n",
    "print(\"Silhouette Coefficient: %0.3f\"% metrics.silhouette_score(dummydata, clusterid6))\n",
    "# Silhouette score between -1 and 1"
   ]
  },
  {
   "cell_type": "markdown",
   "metadata": {},
   "source": [
    "###  <font color='Blue'>2.4 Performance Measure: Calinski-Harabasz Index</font>"
   ]
  },
  {
   "cell_type": "code",
   "execution_count": 13,
   "metadata": {},
   "outputs": [
    {
     "name": "stdout",
     "output_type": "stream",
     "text": [
      "Calinski-Harabasz index: 4269.508\n",
      "Calinski-Harabasz index: 4328.010\n",
      "Calinski-Harabasz index: 5706.676\n",
      "Calinski-Harabasz index: 6018.239\n"
     ]
    }
   ],
   "source": [
    "print(\"Calinski-Harabasz index: %0.3f\"% metrics.calinski_harabasz_score(dummydata, clusterid3))\n",
    "print(\"Calinski-Harabasz index: %0.3f\"% metrics.calinski_harabasz_score(dummydata, clusterid4))\n",
    "print(\"Calinski-Harabasz index: %0.3f\"% metrics.calinski_harabasz_score(dummydata, clusterid5))\n",
    "print(\"Calinski-Harabasz index: %0.3f\"% metrics.calinski_harabasz_score(dummydata, clusterid6))"
   ]
  },
  {
   "cell_type": "markdown",
   "metadata": {},
   "source": [
    "<b> In the above solutions, in cluster 5 solution, we can omit the cluster with size 2 and treat it as a four cluster solution </b>"
   ]
  },
  {
   "cell_type": "markdown",
   "metadata": {},
   "source": [
    "###  <font color='Blue'>3.0 Examining Chararcteristics</font>"
   ]
  },
  {
   "cell_type": "code",
   "execution_count": 14,
   "metadata": {},
   "outputs": [
    {
     "data": {
      "text/html": [
       "<div>\n",
       "<style scoped>\n",
       "    .dataframe tbody tr th:only-of-type {\n",
       "        vertical-align: middle;\n",
       "    }\n",
       "\n",
       "    .dataframe tbody tr th {\n",
       "        vertical-align: top;\n",
       "    }\n",
       "\n",
       "    .dataframe thead th {\n",
       "        text-align: right;\n",
       "    }\n",
       "</style>\n",
       "<table border=\"1\" class=\"dataframe\">\n",
       "  <thead>\n",
       "    <tr style=\"text-align: right;\">\n",
       "      <th></th>\n",
       "      <th>Age</th>\n",
       "      <th>Annual_Income</th>\n",
       "      <th>Purchasing_Frequency</th>\n",
       "      <th>Viewing_hours_day</th>\n",
       "      <th>cluster_size</th>\n",
       "    </tr>\n",
       "    <tr>\n",
       "      <th>clusterid4</th>\n",
       "      <th></th>\n",
       "      <th></th>\n",
       "      <th></th>\n",
       "      <th></th>\n",
       "      <th></th>\n",
       "    </tr>\n",
       "  </thead>\n",
       "  <tbody>\n",
       "    <tr>\n",
       "      <th>0</th>\n",
       "      <td>42.01</td>\n",
       "      <td>42.04</td>\n",
       "      <td>25.42</td>\n",
       "      <td>4.46</td>\n",
       "      <td>357</td>\n",
       "    </tr>\n",
       "    <tr>\n",
       "      <th>1</th>\n",
       "      <td>52.00</td>\n",
       "      <td>29.97</td>\n",
       "      <td>24.73</td>\n",
       "      <td>1.03</td>\n",
       "      <td>498</td>\n",
       "    </tr>\n",
       "    <tr>\n",
       "      <th>2</th>\n",
       "      <td>51.63</td>\n",
       "      <td>66.03</td>\n",
       "      <td>8.39</td>\n",
       "      <td>1.05</td>\n",
       "      <td>62</td>\n",
       "    </tr>\n",
       "    <tr>\n",
       "      <th>3</th>\n",
       "      <td>51.16</td>\n",
       "      <td>60.01</td>\n",
       "      <td>12.96</td>\n",
       "      <td>2.43</td>\n",
       "      <td>83</td>\n",
       "    </tr>\n",
       "  </tbody>\n",
       "</table>\n",
       "</div>"
      ],
      "text/plain": [
       "              Age  Annual_Income  Purchasing_Frequency  Viewing_hours_day  \\\n",
       "clusterid4                                                                  \n",
       "0           42.01          42.04                 25.42               4.46   \n",
       "1           52.00          29.97                 24.73               1.03   \n",
       "2           51.63          66.03                  8.39               1.05   \n",
       "3           51.16          60.01                 12.96               2.43   \n",
       "\n",
       "            cluster_size  \n",
       "clusterid4                \n",
       "0                    357  \n",
       "1                    498  \n",
       "2                     62  \n",
       "3                     83  "
      ]
     },
     "execution_count": 14,
     "metadata": {},
     "output_type": "execute_result"
    }
   ],
   "source": [
    "values=['Annual_Income','Age','Purchasing_Frequency','Viewing_hours_day','Annual_Electronics_Spend']\n",
    "index =['clusterid4']\n",
    "aggfunc={'Annual_Income': np.mean,\n",
    "         'Age': np.mean,\n",
    "         'Purchasing_Frequency':np.mean,\n",
    "         'Viewing_hours_day':np.mean}\n",
    "result = pd.pivot_table(data,values=values,\n",
    "                             index =index,\n",
    "                             aggfunc=aggfunc,\n",
    "                             fill_value=0)\n",
    "result['cluster_size'] = cluster_size4\n",
    "result = result.round(2)\n",
    "result"
   ]
  },
  {
   "cell_type": "markdown",
   "metadata": {},
   "source": [
    "###  <font color='Blue'>3.1 Examining Chararcteristics - Cont'd</font>"
   ]
  },
  {
   "cell_type": "code",
   "execution_count": 15,
   "metadata": {},
   "outputs": [
    {
     "data": {
      "text/html": [
       "<div>\n",
       "<style scoped>\n",
       "    .dataframe tbody tr th:only-of-type {\n",
       "        vertical-align: middle;\n",
       "    }\n",
       "\n",
       "    .dataframe tbody tr th {\n",
       "        vertical-align: top;\n",
       "    }\n",
       "\n",
       "    .dataframe thead th {\n",
       "        text-align: right;\n",
       "    }\n",
       "</style>\n",
       "<table border=\"1\" class=\"dataframe\">\n",
       "  <thead>\n",
       "    <tr style=\"text-align: right;\">\n",
       "      <th></th>\n",
       "      <th>Gender_female</th>\n",
       "      <th>Gender_male</th>\n",
       "      <th>Marital_Status_married</th>\n",
       "      <th>Marital_Status_single</th>\n",
       "      <th>cluster_size</th>\n",
       "    </tr>\n",
       "    <tr>\n",
       "      <th>clusterid5</th>\n",
       "      <th></th>\n",
       "      <th></th>\n",
       "      <th></th>\n",
       "      <th></th>\n",
       "      <th></th>\n",
       "    </tr>\n",
       "  </thead>\n",
       "  <tbody>\n",
       "    <tr>\n",
       "      <th>0</th>\n",
       "      <td>0.48</td>\n",
       "      <td>0.52</td>\n",
       "      <td>0.80</td>\n",
       "      <td>0.20</td>\n",
       "      <td>498</td>\n",
       "    </tr>\n",
       "    <tr>\n",
       "      <th>1</th>\n",
       "      <td>0.50</td>\n",
       "      <td>0.50</td>\n",
       "      <td>0.82</td>\n",
       "      <td>0.18</td>\n",
       "      <td>185</td>\n",
       "    </tr>\n",
       "    <tr>\n",
       "      <th>2</th>\n",
       "      <td>0.26</td>\n",
       "      <td>0.74</td>\n",
       "      <td>0.69</td>\n",
       "      <td>0.31</td>\n",
       "      <td>62</td>\n",
       "    </tr>\n",
       "    <tr>\n",
       "      <th>3</th>\n",
       "      <td>0.25</td>\n",
       "      <td>0.75</td>\n",
       "      <td>0.86</td>\n",
       "      <td>0.14</td>\n",
       "      <td>83</td>\n",
       "    </tr>\n",
       "    <tr>\n",
       "      <th>4</th>\n",
       "      <td>0.55</td>\n",
       "      <td>0.45</td>\n",
       "      <td>0.33</td>\n",
       "      <td>0.67</td>\n",
       "      <td>172</td>\n",
       "    </tr>\n",
       "  </tbody>\n",
       "</table>\n",
       "</div>"
      ],
      "text/plain": [
       "            Gender_female  Gender_male  Marital_Status_married  \\\n",
       "clusterid5                                                       \n",
       "0                    0.48         0.52                    0.80   \n",
       "1                    0.50         0.50                    0.82   \n",
       "2                    0.26         0.74                    0.69   \n",
       "3                    0.25         0.75                    0.86   \n",
       "4                    0.55         0.45                    0.33   \n",
       "\n",
       "            Marital_Status_single  cluster_size  \n",
       "clusterid5                                       \n",
       "0                            0.20           498  \n",
       "1                            0.18           185  \n",
       "2                            0.31            62  \n",
       "3                            0.14            83  \n",
       "4                            0.67           172  "
      ]
     },
     "execution_count": 15,
     "metadata": {},
     "output_type": "execute_result"
    }
   ],
   "source": [
    "dummydata['clusterid5'] = clusterid5\n",
    "values=['Gender_female','Gender_male','Marital_Status_married','Marital_Status_single']\n",
    "index =['clusterid5']\n",
    "aggfunc={'Gender_female': np.mean,\n",
    "         'Gender_male': np.mean,\n",
    "         'Marital_Status_married':np.mean,\n",
    "         'Marital_Status_single':np.mean}\n",
    "result = pd.pivot_table(dummydata,values=values,\n",
    "                             index =index,\n",
    "                             aggfunc=aggfunc,\n",
    "                             fill_value=0)\n",
    "result['cluster_size'] = cluster_size5\n",
    "result = result.round(2)\n",
    "result"
   ]
  },
  {
   "cell_type": "markdown",
   "metadata": {},
   "source": [
    "###  <font color='Blue'>3.3 Examining Chararcteristics - Cont'd</font>"
   ]
  },
  {
   "cell_type": "code",
   "execution_count": 16,
   "metadata": {},
   "outputs": [
    {
     "data": {
      "text/html": [
       "<div>\n",
       "<style scoped>\n",
       "    .dataframe tbody tr th:only-of-type {\n",
       "        vertical-align: middle;\n",
       "    }\n",
       "\n",
       "    .dataframe tbody tr th {\n",
       "        vertical-align: top;\n",
       "    }\n",
       "\n",
       "    .dataframe thead th {\n",
       "        text-align: right;\n",
       "    }\n",
       "</style>\n",
       "<table border=\"1\" class=\"dataframe\">\n",
       "  <thead>\n",
       "    <tr style=\"text-align: right;\">\n",
       "      <th></th>\n",
       "      <th>Technology_Adoption_early</th>\n",
       "      <th>Technology_Adoption_late</th>\n",
       "      <th>cluster_size</th>\n",
       "    </tr>\n",
       "    <tr>\n",
       "      <th>clusterid5</th>\n",
       "      <th></th>\n",
       "      <th></th>\n",
       "      <th></th>\n",
       "    </tr>\n",
       "  </thead>\n",
       "  <tbody>\n",
       "    <tr>\n",
       "      <th>0</th>\n",
       "      <td>1.00</td>\n",
       "      <td>0.00</td>\n",
       "      <td>498</td>\n",
       "    </tr>\n",
       "    <tr>\n",
       "      <th>1</th>\n",
       "      <td>0.26</td>\n",
       "      <td>0.74</td>\n",
       "      <td>185</td>\n",
       "    </tr>\n",
       "    <tr>\n",
       "      <th>2</th>\n",
       "      <td>1.00</td>\n",
       "      <td>0.00</td>\n",
       "      <td>62</td>\n",
       "    </tr>\n",
       "    <tr>\n",
       "      <th>3</th>\n",
       "      <td>0.78</td>\n",
       "      <td>0.22</td>\n",
       "      <td>83</td>\n",
       "    </tr>\n",
       "    <tr>\n",
       "      <th>4</th>\n",
       "      <td>0.74</td>\n",
       "      <td>0.26</td>\n",
       "      <td>172</td>\n",
       "    </tr>\n",
       "  </tbody>\n",
       "</table>\n",
       "</div>"
      ],
      "text/plain": [
       "            Technology_Adoption_early  Technology_Adoption_late  cluster_size\n",
       "clusterid5                                                                   \n",
       "0                                1.00                      0.00           498\n",
       "1                                0.26                      0.74           185\n",
       "2                                1.00                      0.00            62\n",
       "3                                0.78                      0.22            83\n",
       "4                                0.74                      0.26           172"
      ]
     },
     "execution_count": 16,
     "metadata": {},
     "output_type": "execute_result"
    }
   ],
   "source": [
    "dummydata['clusterid5'] = clusterid5\n",
    "values=['Technology_Adoption_early','Technology_Adoption_late']\n",
    "index =['clusterid5']\n",
    "aggfunc={'Technology_Adoption_early': np.mean,\n",
    "         'Technology_Adoption_late': np.mean}\n",
    "result = pd.pivot_table(dummydata,values=values,\n",
    "                             index =index,\n",
    "                             aggfunc=aggfunc,\n",
    "                             fill_value=0)\n",
    "result['cluster_size'] = cluster_size5\n",
    "result = result.round(2)\n",
    "result"
   ]
  }
 ],
 "metadata": {
  "kernelspec": {
   "display_name": "Python 3",
   "language": "python",
   "name": "python3"
  },
  "language_info": {
   "codemirror_mode": {
    "name": "ipython",
    "version": 3
   },
   "file_extension": ".py",
   "mimetype": "text/x-python",
   "name": "python",
   "nbconvert_exporter": "python",
   "pygments_lexer": "ipython3",
   "version": "3.8.8"
  }
 },
 "nbformat": 4,
 "nbformat_minor": 4
}

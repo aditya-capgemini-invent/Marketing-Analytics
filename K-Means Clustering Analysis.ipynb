{
 "cells": [
  {
   "cell_type": "markdown",
   "metadata": {},
   "source": [
    "# <font color='Blue'>K-Means Clustering for the Market Ressearch Data on Electronics Purchases</font>"
   ]
  },
  {
   "cell_type": "markdown",
   "metadata": {},
   "source": [
    "# <font color='Blue'>Loading Libraries</font>"
   ]
  },
  {
   "cell_type": "code",
   "execution_count": 1,
   "metadata": {},
   "outputs": [],
   "source": [
    "import numpy as np\n",
    "import pandas as pd\n",
    "from sklearn.cluster import KMeans\n",
    "from sklearn import metrics\n",
    "from sklearn.preprocessing import StandardScaler\n",
    "\n",
    "import matplotlib.pyplot as plt\n",
    "import seaborn as sn\n",
    "\n",
    "import warnings\n",
    "warnings.filterwarnings('ignore')"
   ]
  },
  {
   "cell_type": "markdown",
   "metadata": {},
   "source": [
    "## <font color='Blue'>1.0 Loading Data</font>"
   ]
  },
  {
   "cell_type": "code",
   "execution_count": 3,
   "metadata": {},
   "outputs": [
    {
     "data": {
      "text/html": [
       "<div>\n",
       "<style scoped>\n",
       "    .dataframe tbody tr th:only-of-type {\n",
       "        vertical-align: middle;\n",
       "    }\n",
       "\n",
       "    .dataframe tbody tr th {\n",
       "        vertical-align: top;\n",
       "    }\n",
       "\n",
       "    .dataframe thead th {\n",
       "        text-align: right;\n",
       "    }\n",
       "</style>\n",
       "<table border=\"1\" class=\"dataframe\">\n",
       "  <thead>\n",
       "    <tr style=\"text-align: right;\">\n",
       "      <th></th>\n",
       "      <th>ID</th>\n",
       "      <th>Gender</th>\n",
       "      <th>Marital_Status</th>\n",
       "      <th>Annual_Income</th>\n",
       "      <th>Age</th>\n",
       "      <th>Monthly_Electronics_Spend</th>\n",
       "      <th>Purchasing_Frequency</th>\n",
       "      <th>Technology_Adoption</th>\n",
       "      <th>Viewing_hours_day</th>\n",
       "    </tr>\n",
       "  </thead>\n",
       "  <tbody>\n",
       "    <tr>\n",
       "      <th>0</th>\n",
       "      <td>1</td>\n",
       "      <td>male</td>\n",
       "      <td>married</td>\n",
       "      <td>49</td>\n",
       "      <td>30</td>\n",
       "      <td>35</td>\n",
       "      <td>13</td>\n",
       "      <td>late</td>\n",
       "      <td>2</td>\n",
       "    </tr>\n",
       "    <tr>\n",
       "      <th>1</th>\n",
       "      <td>2</td>\n",
       "      <td>male</td>\n",
       "      <td>single</td>\n",
       "      <td>46</td>\n",
       "      <td>36</td>\n",
       "      <td>35</td>\n",
       "      <td>26</td>\n",
       "      <td>late</td>\n",
       "      <td>10</td>\n",
       "    </tr>\n",
       "    <tr>\n",
       "      <th>2</th>\n",
       "      <td>3</td>\n",
       "      <td>male</td>\n",
       "      <td>married</td>\n",
       "      <td>58</td>\n",
       "      <td>66</td>\n",
       "      <td>64</td>\n",
       "      <td>13</td>\n",
       "      <td>early</td>\n",
       "      <td>0</td>\n",
       "    </tr>\n",
       "    <tr>\n",
       "      <th>3</th>\n",
       "      <td>4</td>\n",
       "      <td>male</td>\n",
       "      <td>married</td>\n",
       "      <td>51</td>\n",
       "      <td>78</td>\n",
       "      <td>33</td>\n",
       "      <td>22</td>\n",
       "      <td>late</td>\n",
       "      <td>5</td>\n",
       "    </tr>\n",
       "    <tr>\n",
       "      <th>4</th>\n",
       "      <td>5</td>\n",
       "      <td>female</td>\n",
       "      <td>single</td>\n",
       "      <td>46</td>\n",
       "      <td>52</td>\n",
       "      <td>45</td>\n",
       "      <td>47</td>\n",
       "      <td>late</td>\n",
       "      <td>2</td>\n",
       "    </tr>\n",
       "    <tr>\n",
       "      <th>5</th>\n",
       "      <td>6</td>\n",
       "      <td>female</td>\n",
       "      <td>married</td>\n",
       "      <td>31</td>\n",
       "      <td>72</td>\n",
       "      <td>14</td>\n",
       "      <td>32</td>\n",
       "      <td>early</td>\n",
       "      <td>1</td>\n",
       "    </tr>\n",
       "    <tr>\n",
       "      <th>6</th>\n",
       "      <td>7</td>\n",
       "      <td>male</td>\n",
       "      <td>married</td>\n",
       "      <td>33</td>\n",
       "      <td>62</td>\n",
       "      <td>18</td>\n",
       "      <td>41</td>\n",
       "      <td>early</td>\n",
       "      <td>0</td>\n",
       "    </tr>\n",
       "    <tr>\n",
       "      <th>7</th>\n",
       "      <td>8</td>\n",
       "      <td>male</td>\n",
       "      <td>married</td>\n",
       "      <td>29</td>\n",
       "      <td>30</td>\n",
       "      <td>23</td>\n",
       "      <td>9</td>\n",
       "      <td>early</td>\n",
       "      <td>1</td>\n",
       "    </tr>\n",
       "    <tr>\n",
       "      <th>8</th>\n",
       "      <td>9</td>\n",
       "      <td>male</td>\n",
       "      <td>married</td>\n",
       "      <td>57</td>\n",
       "      <td>60</td>\n",
       "      <td>74</td>\n",
       "      <td>1</td>\n",
       "      <td>early</td>\n",
       "      <td>0</td>\n",
       "    </tr>\n",
       "    <tr>\n",
       "      <th>9</th>\n",
       "      <td>10</td>\n",
       "      <td>female</td>\n",
       "      <td>married</td>\n",
       "      <td>30</td>\n",
       "      <td>59</td>\n",
       "      <td>16</td>\n",
       "      <td>25</td>\n",
       "      <td>early</td>\n",
       "      <td>0</td>\n",
       "    </tr>\n",
       "  </tbody>\n",
       "</table>\n",
       "</div>"
      ],
      "text/plain": [
       "   ID  Gender Marital_Status  Annual_Income  Age  Monthly_Electronics_Spend  \\\n",
       "0   1    male        married             49   30                         35   \n",
       "1   2    male         single             46   36                         35   \n",
       "2   3    male        married             58   66                         64   \n",
       "3   4    male        married             51   78                         33   \n",
       "4   5  female         single             46   52                         45   \n",
       "5   6  female        married             31   72                         14   \n",
       "6   7    male        married             33   62                         18   \n",
       "7   8    male        married             29   30                         23   \n",
       "8   9    male        married             57   60                         74   \n",
       "9  10  female        married             30   59                         16   \n",
       "\n",
       "   Purchasing_Frequency Technology_Adoption  Viewing_hours_day  \n",
       "0                    13                late                  2  \n",
       "1                    26                late                 10  \n",
       "2                    13               early                  0  \n",
       "3                    22                late                  5  \n",
       "4                    47                late                  2  \n",
       "5                    32               early                  1  \n",
       "6                    41               early                  0  \n",
       "7                     9               early                  1  \n",
       "8                     1               early                  0  \n",
       "9                    25               early                  0  "
      ]
     },
     "execution_count": 3,
     "metadata": {},
     "output_type": "execute_result"
    }
   ],
   "source": [
    "mktres = pd.read_csv( \"research_data.csv\" )\n",
    "# Parking data in another dataframe\n",
    "data = mktres\n",
    "data.head(10)"
   ]
  },
  {
   "cell_type": "markdown",
   "metadata": {},
   "source": [
    "## <font color='Blue'>1.1 Get the column names</font>"
   ]
  },
  {
   "cell_type": "code",
   "execution_count": 4,
   "metadata": {},
   "outputs": [
    {
     "name": "stdout",
     "output_type": "stream",
     "text": [
      "['ID', 'Gender', 'Marital_Status', 'Annual_Income', 'Age', 'Monthly_Electronics_Spend', 'Purchasing_Frequency', 'Technology_Adoption', 'Viewing_hours_day']\n",
      "\n"
     ]
    }
   ],
   "source": [
    "columns = list(data.columns) \n",
    "print(columns)\n",
    "print(\"\")"
   ]
  },
  {
   "cell_type": "markdown",
   "metadata": {},
   "source": [
    "## <font color='Blue'>1.2 Adding derived data</font>"
   ]
  },
  {
   "cell_type": "code",
   "execution_count": 6,
   "metadata": {},
   "outputs": [
    {
     "name": "stdout",
     "output_type": "stream",
     "text": [
      "#Rows and #Columns (1000, 10)\n",
      "\n"
     ]
    }
   ],
   "source": [
    "data['Annual_Electronics_Spend'] = data['Monthly_Electronics_Spend']*12\n",
    "# Number of raws and columns\n",
    "print(\"#Rows and #Columns\",data.shape)\n",
    "print(\"\")"
   ]
  },
  {
   "cell_type": "markdown",
   "metadata": {},
   "source": [
    "## <font color='Blue'>1.3 Drop columns not need for clustering</font>"
   ]
  },
  {
   "cell_type": "code",
   "execution_count": 8,
   "metadata": {},
   "outputs": [
    {
     "name": "stdout",
     "output_type": "stream",
     "text": [
      "#Rows and #Columns (1000, 8)\n",
      "\n",
      "['Gender', 'Marital_Status', 'Annual_Income', 'Age', 'Purchasing_Frequency', 'Technology_Adoption', 'Viewing_hours_day', 'Annual_Electronics_Spend']\n"
     ]
    }
   ],
   "source": [
    "data = data.drop(['ID','Monthly_Electronics_Spend'],axis=1)\n",
    "print(\"#Rows and #Columns\",data.shape)\n",
    "print(\"\")\n",
    "columns = list(data.columns) \n",
    "print(columns)"
   ]
  },
  {
   "cell_type": "markdown",
   "metadata": {},
   "source": [
    "## <font color='Blue'>1.4 Dummy Coding Variables</font>"
   ]
  },
  {
   "cell_type": "code",
   "execution_count": 10,
   "metadata": {},
   "outputs": [
    {
     "name": "stdout",
     "output_type": "stream",
     "text": [
      "#Rows and #Columns (1000, 11)\n",
      "\n",
      "['Annual_Income', 'Age', 'Purchasing_Frequency', 'Viewing_hours_day', 'Annual_Electronics_Spend', 'Gender_female', 'Gender_male', 'Marital_Status_married', 'Marital_Status_single', 'Technology_Adoption_early', 'Technology_Adoption_late']\n"
     ]
    }
   ],
   "source": [
    "dummy      = ['Gender', 'Marital_Status', 'Technology_Adoption']\n",
    "dummydata  = pd.get_dummies(data, columns=dummy)\n",
    "dummydata.head()\n",
    "\n",
    "#Columns\n",
    "print(\"#Rows and #Columns\",dummydata.shape)\n",
    "print(\"\")\n",
    "columns = list(dummydata.columns) \n",
    "print(columns)"
   ]
  },
  {
   "cell_type": "markdown",
   "metadata": {},
   "source": [
    "## <font color='Blue'>1.5 Examining Data</font>"
   ]
  },
  {
   "cell_type": "code",
   "execution_count": 11,
   "metadata": {},
   "outputs": [
    {
     "name": "stdout",
     "output_type": "stream",
     "text": [
      "<class 'pandas.core.frame.DataFrame'>\n",
      "RangeIndex: 1000 entries, 0 to 999\n",
      "Data columns (total 11 columns):\n",
      " #   Column                     Non-Null Count  Dtype\n",
      "---  ------                     --------------  -----\n",
      " 0   Annual_Income              1000 non-null   int64\n",
      " 1   Age                        1000 non-null   int64\n",
      " 2   Purchasing_Frequency       1000 non-null   int64\n",
      " 3   Viewing_hours_day          1000 non-null   int64\n",
      " 4   Annual_Electronics_Spend   1000 non-null   int64\n",
      " 5   Gender_female              1000 non-null   uint8\n",
      " 6   Gender_male                1000 non-null   uint8\n",
      " 7   Marital_Status_married     1000 non-null   uint8\n",
      " 8   Marital_Status_single      1000 non-null   uint8\n",
      " 9   Technology_Adoption_early  1000 non-null   uint8\n",
      " 10  Technology_Adoption_late   1000 non-null   uint8\n",
      "dtypes: int64(5), uint8(6)\n",
      "memory usage: 45.0 KB\n"
     ]
    }
   ],
   "source": [
    "dummydata.info()"
   ]
  },
  {
   "cell_type": "code",
   "execution_count": 14,
   "metadata": {},
   "outputs": [
    {
     "data": {
      "text/html": [
       "<div>\n",
       "<style scoped>\n",
       "    .dataframe tbody tr th:only-of-type {\n",
       "        vertical-align: middle;\n",
       "    }\n",
       "\n",
       "    .dataframe tbody tr th {\n",
       "        vertical-align: top;\n",
       "    }\n",
       "\n",
       "    .dataframe thead th {\n",
       "        text-align: right;\n",
       "    }\n",
       "</style>\n",
       "<table border=\"1\" class=\"dataframe\">\n",
       "  <thead>\n",
       "    <tr style=\"text-align: right;\">\n",
       "      <th></th>\n",
       "      <th>Annual_Income</th>\n",
       "      <th>Age</th>\n",
       "      <th>Purchasing_Frequency</th>\n",
       "      <th>Viewing_hours_day</th>\n",
       "      <th>Annual_Electronics_Spend</th>\n",
       "      <th>Gender_female</th>\n",
       "      <th>Gender_male</th>\n",
       "      <th>Marital_Status_married</th>\n",
       "      <th>Marital_Status_single</th>\n",
       "      <th>Technology_Adoption_early</th>\n",
       "      <th>Technology_Adoption_late</th>\n",
       "    </tr>\n",
       "  </thead>\n",
       "  <tbody>\n",
       "    <tr>\n",
       "      <th>0</th>\n",
       "      <td>0.322666</td>\n",
       "      <td>-1.027302</td>\n",
       "      <td>-0.719876</td>\n",
       "      <td>2</td>\n",
       "      <td>0.236954</td>\n",
       "      <td>0</td>\n",
       "      <td>1</td>\n",
       "      <td>1</td>\n",
       "      <td>0</td>\n",
       "      <td>0</td>\n",
       "      <td>1</td>\n",
       "    </tr>\n",
       "    <tr>\n",
       "      <th>1</th>\n",
       "      <td>0.225798</td>\n",
       "      <td>-0.691290</td>\n",
       "      <td>0.217275</td>\n",
       "      <td>10</td>\n",
       "      <td>0.236954</td>\n",
       "      <td>0</td>\n",
       "      <td>1</td>\n",
       "      <td>0</td>\n",
       "      <td>1</td>\n",
       "      <td>0</td>\n",
       "      <td>1</td>\n",
       "    </tr>\n",
       "    <tr>\n",
       "      <th>2</th>\n",
       "      <td>0.613268</td>\n",
       "      <td>0.988773</td>\n",
       "      <td>-0.719876</td>\n",
       "      <td>0</td>\n",
       "      <td>1.938706</td>\n",
       "      <td>0</td>\n",
       "      <td>1</td>\n",
       "      <td>1</td>\n",
       "      <td>0</td>\n",
       "      <td>1</td>\n",
       "      <td>0</td>\n",
       "    </tr>\n",
       "    <tr>\n",
       "      <th>3</th>\n",
       "      <td>0.387244</td>\n",
       "      <td>1.660798</td>\n",
       "      <td>-0.071079</td>\n",
       "      <td>5</td>\n",
       "      <td>0.119592</td>\n",
       "      <td>0</td>\n",
       "      <td>1</td>\n",
       "      <td>1</td>\n",
       "      <td>0</td>\n",
       "      <td>0</td>\n",
       "      <td>1</td>\n",
       "    </tr>\n",
       "    <tr>\n",
       "      <th>4</th>\n",
       "      <td>0.225798</td>\n",
       "      <td>0.204744</td>\n",
       "      <td>1.731134</td>\n",
       "      <td>2</td>\n",
       "      <td>0.823765</td>\n",
       "      <td>1</td>\n",
       "      <td>0</td>\n",
       "      <td>0</td>\n",
       "      <td>1</td>\n",
       "      <td>0</td>\n",
       "      <td>1</td>\n",
       "    </tr>\n",
       "  </tbody>\n",
       "</table>\n",
       "</div>"
      ],
      "text/plain": [
       "   Annual_Income       Age  Purchasing_Frequency  Viewing_hours_day  \\\n",
       "0       0.322666 -1.027302             -0.719876                  2   \n",
       "1       0.225798 -0.691290              0.217275                 10   \n",
       "2       0.613268  0.988773             -0.719876                  0   \n",
       "3       0.387244  1.660798             -0.071079                  5   \n",
       "4       0.225798  0.204744              1.731134                  2   \n",
       "\n",
       "   Annual_Electronics_Spend  Gender_female  Gender_male  \\\n",
       "0                  0.236954              0            1   \n",
       "1                  0.236954              0            1   \n",
       "2                  1.938706              0            1   \n",
       "3                  0.119592              0            1   \n",
       "4                  0.823765              1            0   \n",
       "\n",
       "   Marital_Status_married  Marital_Status_single  Technology_Adoption_early  \\\n",
       "0                       1                      0                          0   \n",
       "1                       0                      1                          0   \n",
       "2                       1                      0                          1   \n",
       "3                       1                      0                          0   \n",
       "4                       0                      1                          0   \n",
       "\n",
       "   Technology_Adoption_late  \n",
       "0                         1  \n",
       "1                         1  \n",
       "2                         0  \n",
       "3                         1  \n",
       "4                         1  "
      ]
     },
     "execution_count": 14,
     "metadata": {},
     "output_type": "execute_result"
    }
   ],
   "source": [
    "dummydata.head()"
   ]
  },
  {
   "cell_type": "markdown",
   "metadata": {},
   "source": [
    "## <font color='Blue'>1.6 Normalizing Non-Categorical Variables</font>"
   ]
  },
  {
   "cell_type": "code",
   "execution_count": 15,
   "metadata": {},
   "outputs": [
    {
     "data": {
      "text/html": [
       "<div>\n",
       "<style scoped>\n",
       "    .dataframe tbody tr th:only-of-type {\n",
       "        vertical-align: middle;\n",
       "    }\n",
       "\n",
       "    .dataframe tbody tr th {\n",
       "        vertical-align: top;\n",
       "    }\n",
       "\n",
       "    .dataframe thead th {\n",
       "        text-align: right;\n",
       "    }\n",
       "</style>\n",
       "<table border=\"1\" class=\"dataframe\">\n",
       "  <thead>\n",
       "    <tr style=\"text-align: right;\">\n",
       "      <th></th>\n",
       "      <th>Annual_Income</th>\n",
       "      <th>Age</th>\n",
       "      <th>Purchasing_Frequency</th>\n",
       "      <th>Viewing_hours_day</th>\n",
       "      <th>Annual_Electronics_Spend</th>\n",
       "      <th>Gender_female</th>\n",
       "      <th>Gender_male</th>\n",
       "      <th>Marital_Status_married</th>\n",
       "      <th>Marital_Status_single</th>\n",
       "      <th>Technology_Adoption_early</th>\n",
       "      <th>Technology_Adoption_late</th>\n",
       "    </tr>\n",
       "  </thead>\n",
       "  <tbody>\n",
       "    <tr>\n",
       "      <th>0</th>\n",
       "      <td>0.322666</td>\n",
       "      <td>-1.027302</td>\n",
       "      <td>-0.719876</td>\n",
       "      <td>-0.127200</td>\n",
       "      <td>0.236954</td>\n",
       "      <td>0</td>\n",
       "      <td>1</td>\n",
       "      <td>1</td>\n",
       "      <td>0</td>\n",
       "      <td>0</td>\n",
       "      <td>1</td>\n",
       "    </tr>\n",
       "    <tr>\n",
       "      <th>1</th>\n",
       "      <td>0.225798</td>\n",
       "      <td>-0.691290</td>\n",
       "      <td>0.217275</td>\n",
       "      <td>2.623078</td>\n",
       "      <td>0.236954</td>\n",
       "      <td>0</td>\n",
       "      <td>1</td>\n",
       "      <td>0</td>\n",
       "      <td>1</td>\n",
       "      <td>0</td>\n",
       "      <td>1</td>\n",
       "    </tr>\n",
       "    <tr>\n",
       "      <th>2</th>\n",
       "      <td>0.613268</td>\n",
       "      <td>0.988773</td>\n",
       "      <td>-0.719876</td>\n",
       "      <td>-0.814770</td>\n",
       "      <td>1.938706</td>\n",
       "      <td>0</td>\n",
       "      <td>1</td>\n",
       "      <td>1</td>\n",
       "      <td>0</td>\n",
       "      <td>1</td>\n",
       "      <td>0</td>\n",
       "    </tr>\n",
       "    <tr>\n",
       "      <th>3</th>\n",
       "      <td>0.387244</td>\n",
       "      <td>1.660798</td>\n",
       "      <td>-0.071079</td>\n",
       "      <td>0.904154</td>\n",
       "      <td>0.119592</td>\n",
       "      <td>0</td>\n",
       "      <td>1</td>\n",
       "      <td>1</td>\n",
       "      <td>0</td>\n",
       "      <td>0</td>\n",
       "      <td>1</td>\n",
       "    </tr>\n",
       "    <tr>\n",
       "      <th>4</th>\n",
       "      <td>0.225798</td>\n",
       "      <td>0.204744</td>\n",
       "      <td>1.731134</td>\n",
       "      <td>-0.127200</td>\n",
       "      <td>0.823765</td>\n",
       "      <td>1</td>\n",
       "      <td>0</td>\n",
       "      <td>0</td>\n",
       "      <td>1</td>\n",
       "      <td>0</td>\n",
       "      <td>1</td>\n",
       "    </tr>\n",
       "  </tbody>\n",
       "</table>\n",
       "</div>"
      ],
      "text/plain": [
       "   Annual_Income       Age  Purchasing_Frequency  Viewing_hours_day  \\\n",
       "0       0.322666 -1.027302             -0.719876          -0.127200   \n",
       "1       0.225798 -0.691290              0.217275           2.623078   \n",
       "2       0.613268  0.988773             -0.719876          -0.814770   \n",
       "3       0.387244  1.660798             -0.071079           0.904154   \n",
       "4       0.225798  0.204744              1.731134          -0.127200   \n",
       "\n",
       "   Annual_Electronics_Spend  Gender_female  Gender_male  \\\n",
       "0                  0.236954              0            1   \n",
       "1                  0.236954              0            1   \n",
       "2                  1.938706              0            1   \n",
       "3                  0.119592              0            1   \n",
       "4                  0.823765              1            0   \n",
       "\n",
       "   Marital_Status_married  Marital_Status_single  Technology_Adoption_early  \\\n",
       "0                       1                      0                          0   \n",
       "1                       0                      1                          0   \n",
       "2                       1                      0                          1   \n",
       "3                       1                      0                          0   \n",
       "4                       0                      1                          0   \n",
       "\n",
       "   Technology_Adoption_late  \n",
       "0                         1  \n",
       "1                         1  \n",
       "2                         0  \n",
       "3                         1  \n",
       "4                         1  "
      ]
     },
     "execution_count": 15,
     "metadata": {},
     "output_type": "execute_result"
    }
   ],
   "source": [
    "scaler = StandardScaler()\n",
    "dummydata[[\"Annual_Income\"]]               = scaler.fit_transform(dummydata[[\"Annual_Income\"]])\n",
    "dummydata[[\"Age\"]]                         = scaler.fit_transform(dummydata[[\"Age\"]])\n",
    "dummydata[[\"Purchasing_Frequency\"]]        = scaler.fit_transform(dummydata[[\"Purchasing_Frequency\"]])\n",
    "dummydata[[\"Viewing_hours_day\"]]           = scaler.fit_transform(dummydata[[\"Viewing_hours_day\"]])\n",
    "dummydata.head()"
   ]
  },
  {
   "cell_type": "markdown",
   "metadata": {},
   "source": [
    "## <font color='Blue'>2.0 Generating k-means Solutions</font>"
   ]
  },
  {
   "cell_type": "markdown",
   "metadata": {},
   "source": [
    "###  <font color='Blue'>2.1 Generate 3 cluster and 4 cluster solution using k-means</font>"
   ]
  },
  {
   "cell_type": "code",
   "execution_count": 16,
   "metadata": {},
   "outputs": [],
   "source": [
    "clusterid3 = KMeans(3).fit(dummydata).labels_\n",
    "clusterid4 = KMeans(4).fit(dummydata).labels_"
   ]
  },
  {
   "cell_type": "markdown",
   "metadata": {},
   "source": [
    "###  <font color='Blue'>2.2 Assign Cluster Labels</font>"
   ]
  },
  {
   "cell_type": "code",
   "execution_count": 17,
   "metadata": {},
   "outputs": [
    {
     "name": "stdout",
     "output_type": "stream",
     "text": [
      "clusterid3\n",
      "0    172\n",
      "1    656\n",
      "2    172\n",
      "dtype: int64\n",
      "\n",
      "clusterid4\n",
      "0      2\n",
      "1    655\n",
      "2    170\n",
      "3    173\n",
      "dtype: int64\n",
      "\n"
     ]
    }
   ],
   "source": [
    "data[\"clusterid3\"] = clusterid3\n",
    "data[\"clusterid4\"] = clusterid4\n",
    "cluster_size3 = data.groupby(['clusterid3']).size() \n",
    "cluster_size4 = data.groupby(['clusterid4']).size() \n",
    "print(cluster_size3)\n",
    "print(\"\")\n",
    "print(cluster_size4)\n",
    "print(\"\")"
   ]
  },
  {
   "cell_type": "markdown",
   "metadata": {},
   "source": [
    "###  <font color='Blue'>2.3 Scree Plot</font>"
   ]
  },
  {
   "cell_type": "code",
   "execution_count": 18,
   "metadata": {},
   "outputs": [],
   "source": [
    "import collections \n",
    "def CountFrequency(arr): \n",
    "    return collections.Counter(arr)"
   ]
  },
  {
   "cell_type": "code",
   "execution_count": 19,
   "metadata": {},
   "outputs": [
    {
     "name": "stdout",
     "output_type": "stream",
     "text": [
      "Counter({0: 1000})\n",
      "Counter({0: 643, 1: 357})\n",
      "Counter({1: 658, 2: 171, 0: 171})\n",
      "Counter({0: 654, 1: 174, 2: 170, 3: 2})\n",
      "Counter({0: 353, 4: 322, 1: 163, 2: 160, 3: 2})\n",
      "Counter({1: 260, 5: 245, 0: 174, 3: 171, 2: 148, 4: 2})\n",
      "Counter({2: 245, 4: 233, 0: 163, 6: 160, 1: 112, 5: 85, 3: 2})\n",
      "Counter({5: 215, 4: 158, 3: 145, 1: 144, 7: 139, 6: 112, 0: 85, 2: 2})\n",
      "Counter({4: 168, 2: 152, 0: 142, 3: 133, 8: 123, 5: 111, 1: 85, 7: 84, 6: 2})\n",
      "Counter({4: 152, 0: 144, 6: 128, 5: 118, 1: 113, 2: 111, 8: 85, 7: 84, 9: 63, 3: 2})\n",
      "cluster_errors: [6220.750000000013, 5008.900646166026, 4162.263574642833, 3336.563277423576, 2712.3657054227374, 2398.713985885348, 2130.1230610368602, 1941.777131261181, 1813.575540837162, 1711.045851616866]\n"
     ]
    },
    {
     "data": {
      "image/png": "[encoded data removed]",
      "text/plain": [
       "<Figure size 432x288 with 1 Axes>"
      ]
     },
     "metadata": {
      "needs_background": "light"
     },
     "output_type": "display_data"
    }
   ],
   "source": [
    "cluster_range = range( 1, 11 )\n",
    "cluster_errors = []  # Captures WSS\n",
    "\n",
    "for num_clusters in cluster_range:\n",
    "    clusters = KMeans( num_clusters )\n",
    "    clusters.fit( dummydata )\n",
    "    cluster_errors.append( clusters.inertia_ )\n",
    "    print(CountFrequency(clusters.labels_))\n",
    "   \n",
    "print(\"cluster_errors:\", cluster_errors)\n",
    "plt.figure(figsize=(6,4))\n",
    "plt.plot( cluster_range, cluster_errors, marker = \"o\" );\n",
    "plt.xlabel('Number of clusters');\n",
    "plt.ylabel('WCSS');\n",
    "plt.title( \"Scree Plot\");"
   ]
  },
  {
   "cell_type": "markdown",
   "metadata": {},
   "source": [
    "    1. Scree-plot indicates a four cluster solution.\n",
    "    2. Size wise = cluster solutions containing either 3 or 4 clusters look good "
   ]
  },
  {
   "cell_type": "markdown",
   "metadata": {},
   "source": [
    "###  <font color='Blue'>2.4 Performance Measure: Silhouette Score</font>"
   ]
  },
  {
   "cell_type": "code",
   "execution_count": 20,
   "metadata": {},
   "outputs": [
    {
     "name": "stdout",
     "output_type": "stream",
     "text": [
      "Silhouette Coefficient: 0.301\n",
      "Silhouette Coefficient: 0.292\n"
     ]
    }
   ],
   "source": [
    "print(\"Silhouette Coefficient: %0.3f\"% metrics.silhouette_score(dummydata, clusterid3))\n",
    "print(\"Silhouette Coefficient: %0.3f\"% metrics.silhouette_score(dummydata, clusterid4))\n",
    "# Silhouette score between -1 and 1"
   ]
  },
  {
   "cell_type": "markdown",
   "metadata": {},
   "source": [
    "###  <font color='Blue'>2.5 Performance Measure: Calinski-Harabasz index</font>"
   ]
  },
  {
   "cell_type": "code",
   "execution_count": 21,
   "metadata": {},
   "outputs": [
    {
     "name": "stdout",
     "output_type": "stream",
     "text": [
      "Calinski-Harabasz index: 246.535\n",
      "Calinski-Harabasz index: 286.981\n"
     ]
    }
   ],
   "source": [
    "print(\"Calinski-Harabasz index: %0.3f\"% metrics.calinski_harabasz_score(dummydata, clusterid3))\n",
    "print(\"Calinski-Harabasz index: %0.3f\"% metrics.calinski_harabasz_score(dummydata, clusterid4))"
   ]
  },
  {
   "cell_type": "markdown",
   "metadata": {},
   "source": [
    "###  <font color='Blue'>3.0 Examining Chararcteristics</font>"
   ]
  },
  {
   "cell_type": "code",
   "execution_count": 22,
   "metadata": {},
   "outputs": [
    {
     "ename": "KeyError",
     "evalue": "'Electronic_Spend_Perc'",
     "output_type": "error",
     "traceback": [
      "\u001b[1;31m---------------------------------------------------------------------------\u001b[0m",
      "\u001b[1;31mKeyError\u001b[0m                                  Traceback (most recent call last)",
      "\u001b[1;32m<ipython-input-22-52da91bbf1ae>\u001b[0m in \u001b[0;36m<module>\u001b[1;34m\u001b[0m\n\u001b[0;32m      7\u001b[0m          \u001b[1;34m'Annual_Electronics_Spend'\u001b[0m\u001b[1;33m:\u001b[0m\u001b[0mnp\u001b[0m\u001b[1;33m.\u001b[0m\u001b[0mmean\u001b[0m\u001b[1;33m,\u001b[0m\u001b[1;33m\u001b[0m\u001b[1;33m\u001b[0m\u001b[0m\n\u001b[0;32m      8\u001b[0m          'Electronic_Spend_Perc':np.mean}\n\u001b[1;32m----> 9\u001b[1;33m result = pd.pivot_table(data,values=values,\n\u001b[0m\u001b[0;32m     10\u001b[0m                              \u001b[0mindex\u001b[0m \u001b[1;33m=\u001b[0m\u001b[0mindex\u001b[0m\u001b[1;33m,\u001b[0m\u001b[1;33m\u001b[0m\u001b[1;33m\u001b[0m\u001b[0m\n\u001b[0;32m     11\u001b[0m                              \u001b[0maggfunc\u001b[0m\u001b[1;33m=\u001b[0m\u001b[0maggfunc\u001b[0m\u001b[1;33m,\u001b[0m\u001b[1;33m\u001b[0m\u001b[1;33m\u001b[0m\u001b[0m\n",
      "\u001b[1;32mC:\\ProgramData\\Anaconda3\\lib\\site-packages\\pandas\\core\\reshape\\pivot.py\u001b[0m in \u001b[0;36mpivot_table\u001b[1;34m(data, values, index, columns, aggfunc, fill_value, margins, dropna, margins_name, observed)\u001b[0m\n\u001b[0;32m     87\u001b[0m         \u001b[1;32mfor\u001b[0m \u001b[0mi\u001b[0m \u001b[1;32min\u001b[0m \u001b[0mvalues\u001b[0m\u001b[1;33m:\u001b[0m\u001b[1;33m\u001b[0m\u001b[1;33m\u001b[0m\u001b[0m\n\u001b[0;32m     88\u001b[0m             \u001b[1;32mif\u001b[0m \u001b[0mi\u001b[0m \u001b[1;32mnot\u001b[0m \u001b[1;32min\u001b[0m \u001b[0mdata\u001b[0m\u001b[1;33m:\u001b[0m\u001b[1;33m\u001b[0m\u001b[1;33m\u001b[0m\u001b[0m\n\u001b[1;32m---> 89\u001b[1;33m                 \u001b[1;32mraise\u001b[0m \u001b[0mKeyError\u001b[0m\u001b[1;33m(\u001b[0m\u001b[0mi\u001b[0m\u001b[1;33m)\u001b[0m\u001b[1;33m\u001b[0m\u001b[1;33m\u001b[0m\u001b[0m\n\u001b[0m\u001b[0;32m     90\u001b[0m \u001b[1;33m\u001b[0m\u001b[0m\n\u001b[0;32m     91\u001b[0m         \u001b[0mto_filter\u001b[0m \u001b[1;33m=\u001b[0m \u001b[1;33m[\u001b[0m\u001b[1;33m]\u001b[0m\u001b[1;33m\u001b[0m\u001b[1;33m\u001b[0m\u001b[0m\n",
      "\u001b[1;31mKeyError\u001b[0m: 'Electronic_Spend_Perc'"
     ]
    }
   ],
   "source": [
    "values=['Annual_Income','Age','Purchasing_Frequency','Viewing_hours_day','Annual_Electronics_Spend','Electronic_Spend_Perc']\n",
    "index =['clusterid4']\n",
    "aggfunc={'Annual_Income': np.mean,\n",
    "         'Age': np.mean,\n",
    "         'Purchasing_Frequency':np.mean,\n",
    "         'Viewing_hours_day':np.mean,\n",
    "         'Annual_Electronics_Spend':np.mean,\n",
    "         'Electronic_Spend_Perc':np.mean}\n",
    "result = pd.pivot_table(data,values=values,\n",
    "                             index =index,\n",
    "                             aggfunc=aggfunc,\n",
    "                             fill_value=0)\n",
    "result['cluster_size'] = cluster_size4\n",
    "result = result.round(2)\n",
    "result"
   ]
  },
  {
   "cell_type": "markdown",
   "metadata": {},
   "source": [
    "###  <font color='Blue'>3.1 Examining Chararcteristics - Cont'd</font>"
   ]
  },
  {
   "cell_type": "code",
   "execution_count": 24,
   "metadata": {},
   "outputs": [
    {
     "data": {
      "text/html": [
       "<div>\n",
       "<style scoped>\n",
       "    .dataframe tbody tr th:only-of-type {\n",
       "        vertical-align: middle;\n",
       "    }\n",
       "\n",
       "    .dataframe tbody tr th {\n",
       "        vertical-align: top;\n",
       "    }\n",
       "\n",
       "    .dataframe thead th {\n",
       "        text-align: right;\n",
       "    }\n",
       "</style>\n",
       "<table border=\"1\" class=\"dataframe\">\n",
       "  <thead>\n",
       "    <tr style=\"text-align: right;\">\n",
       "      <th></th>\n",
       "      <th>Gender_female</th>\n",
       "      <th>Gender_male</th>\n",
       "      <th>Marital_Status_married</th>\n",
       "      <th>Marital_Status_single</th>\n",
       "      <th>cluster_size</th>\n",
       "    </tr>\n",
       "    <tr>\n",
       "      <th>clusterid4</th>\n",
       "      <th></th>\n",
       "      <th></th>\n",
       "      <th></th>\n",
       "      <th></th>\n",
       "      <th></th>\n",
       "    </tr>\n",
       "  </thead>\n",
       "  <tbody>\n",
       "    <tr>\n",
       "      <th>0</th>\n",
       "      <td>0.00</td>\n",
       "      <td>1.00</td>\n",
       "      <td>1.00</td>\n",
       "      <td>0.00</td>\n",
       "      <td>2</td>\n",
       "    </tr>\n",
       "    <tr>\n",
       "      <th>1</th>\n",
       "      <td>0.49</td>\n",
       "      <td>0.51</td>\n",
       "      <td>0.66</td>\n",
       "      <td>0.34</td>\n",
       "      <td>655</td>\n",
       "    </tr>\n",
       "    <tr>\n",
       "      <th>2</th>\n",
       "      <td>0.28</td>\n",
       "      <td>0.72</td>\n",
       "      <td>0.79</td>\n",
       "      <td>0.21</td>\n",
       "      <td>170</td>\n",
       "    </tr>\n",
       "    <tr>\n",
       "      <th>3</th>\n",
       "      <td>0.55</td>\n",
       "      <td>0.45</td>\n",
       "      <td>0.88</td>\n",
       "      <td>0.12</td>\n",
       "      <td>173</td>\n",
       "    </tr>\n",
       "  </tbody>\n",
       "</table>\n",
       "</div>"
      ],
      "text/plain": [
       "            Gender_female  Gender_male  Marital_Status_married  \\\n",
       "clusterid4                                                       \n",
       "0                    0.00         1.00                    1.00   \n",
       "1                    0.49         0.51                    0.66   \n",
       "2                    0.28         0.72                    0.79   \n",
       "3                    0.55         0.45                    0.88   \n",
       "\n",
       "            Marital_Status_single  cluster_size  \n",
       "clusterid4                                       \n",
       "0                            0.00             2  \n",
       "1                            0.34           655  \n",
       "2                            0.21           170  \n",
       "3                            0.12           173  "
      ]
     },
     "execution_count": 24,
     "metadata": {},
     "output_type": "execute_result"
    }
   ],
   "source": [
    "dummydata['clusterid4'] = clusterid4\n",
    "values=['Gender_female','Gender_male','Marital_Status_married','Marital_Status_single']\n",
    "index =['clusterid4']\n",
    "aggfunc={'Gender_female': np.mean,\n",
    "         'Gender_male': np.mean,\n",
    "         'Marital_Status_married':np.mean,\n",
    "         'Marital_Status_single':np.mean\n",
    "        }\n",
    "result = pd.pivot_table(dummydata,values=values,\n",
    "                             index =index,\n",
    "                             aggfunc=aggfunc,\n",
    "                             fill_value=0)\n",
    "result['cluster_size'] = cluster_size4\n",
    "result = result.round(2)\n",
    "result"
   ]
  },
  {
   "cell_type": "markdown",
   "metadata": {},
   "source": [
    "###  <font color='Blue'>3.3 Examining Chararcteristics - Cont'd</font>"
   ]
  },
  {
   "cell_type": "code",
   "execution_count": 27,
   "metadata": {},
   "outputs": [
    {
     "data": {
      "text/html": [
       "<div>\n",
       "<style scoped>\n",
       "    .dataframe tbody tr th:only-of-type {\n",
       "        vertical-align: middle;\n",
       "    }\n",
       "\n",
       "    .dataframe tbody tr th {\n",
       "        vertical-align: top;\n",
       "    }\n",
       "\n",
       "    .dataframe thead th {\n",
       "        text-align: right;\n",
       "    }\n",
       "</style>\n",
       "<table border=\"1\" class=\"dataframe\">\n",
       "  <thead>\n",
       "    <tr style=\"text-align: right;\">\n",
       "      <th></th>\n",
       "      <th>Technology_Adoption_early</th>\n",
       "      <th>Technology_Adoption_late</th>\n",
       "      <th>cluster_size</th>\n",
       "    </tr>\n",
       "    <tr>\n",
       "      <th>clusterid4</th>\n",
       "      <th></th>\n",
       "      <th></th>\n",
       "      <th></th>\n",
       "    </tr>\n",
       "  </thead>\n",
       "  <tbody>\n",
       "    <tr>\n",
       "      <th>0</th>\n",
       "      <td>1.00</td>\n",
       "      <td>0.00</td>\n",
       "      <td>2</td>\n",
       "    </tr>\n",
       "    <tr>\n",
       "      <th>1</th>\n",
       "      <td>0.97</td>\n",
       "      <td>0.03</td>\n",
       "      <td>655</td>\n",
       "    </tr>\n",
       "    <tr>\n",
       "      <th>2</th>\n",
       "      <td>0.94</td>\n",
       "      <td>0.06</td>\n",
       "      <td>170</td>\n",
       "    </tr>\n",
       "    <tr>\n",
       "      <th>3</th>\n",
       "      <td>0.01</td>\n",
       "      <td>0.99</td>\n",
       "      <td>173</td>\n",
       "    </tr>\n",
       "  </tbody>\n",
       "</table>\n",
       "</div>"
      ],
      "text/plain": [
       "            Technology_Adoption_early  Technology_Adoption_late  cluster_size\n",
       "clusterid4                                                                   \n",
       "0                                1.00                      0.00             2\n",
       "1                                0.97                      0.03           655\n",
       "2                                0.94                      0.06           170\n",
       "3                                0.01                      0.99           173"
      ]
     },
     "execution_count": 27,
     "metadata": {},
     "output_type": "execute_result"
    }
   ],
   "source": [
    "# Cluster 4 - Examining Characteristics\n",
    "dummydata['clusterid4'] = clusterid4\n",
    "values=['Technology_Adoption_early','Technology_Adoption_late']\n",
    "index =['clusterid4']\n",
    "aggfunc={'Technology_Adoption_early': np.mean,\n",
    "         'Technology_Adoption_late': np.mean}\n",
    "result = pd.pivot_table(dummydata,values=values,\n",
    "                             index =index,\n",
    "                             aggfunc=aggfunc,\n",
    "                             fill_value=0)\n",
    "result['cluster_size'] = cluster_size4\n",
    "result = result.round(2)\n",
    "result"
   ]
  },
  {
   "cell_type": "code",
   "execution_count": null,
   "metadata": {},
   "outputs": [],
   "source": []
  }
 ],
 "metadata": {
  "kernelspec": {
   "display_name": "Python 3",
   "language": "python",
   "name": "python3"
  },
  "language_info": {
   "codemirror_mode": {
    "name": "ipython",
    "version": 3
   },
   "file_extension": ".py",
   "mimetype": "text/x-python",
   "name": "python",
   "nbconvert_exporter": "python",
   "pygments_lexer": "ipython3",
   "version": "3.8.8"
  }
 },
 "nbformat": 4,
 "nbformat_minor": 4
}
